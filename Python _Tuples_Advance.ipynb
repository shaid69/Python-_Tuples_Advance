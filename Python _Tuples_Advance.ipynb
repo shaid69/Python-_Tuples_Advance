{
 "cells": [
  {
   "cell_type": "code",
   "execution_count": 1,
   "metadata": {},
   "outputs": [
    {
     "name": "stdout",
     "output_type": "stream",
     "text": [
      "('shaid', 10, 1.02)\n"
     ]
    }
   ],
   "source": [
    "#Tuple: ordered,immutable,allows duplicate element\n",
    "mytuple=(\"shaid\",10,1.02)\n",
    "print(mytuple)\n"
   ]
  },
  {
   "cell_type": "code",
   "execution_count": 2,
   "metadata": {},
   "outputs": [
    {
     "name": "stdout",
     "output_type": "stream",
     "text": [
      "('shaid', 10, 1.02)\n"
     ]
    }
   ],
   "source": [
    "mytuple=tuple([\"shaid\",10,1.02])\n",
    "print(mytuple)"
   ]
  },
  {
   "cell_type": "code",
   "execution_count": 3,
   "metadata": {},
   "outputs": [
    {
     "name": "stdout",
     "output_type": "stream",
     "text": [
      "shaid\n",
      "10\n",
      "1.02\n"
     ]
    },
    {
     "ename": "IndexError",
     "evalue": "tuple index out of range",
     "output_type": "error",
     "traceback": [
      "\u001b[1;31m---------------------------------------------------------------------------\u001b[0m",
      "\u001b[1;31mIndexError\u001b[0m                                Traceback (most recent call last)",
      "Cell \u001b[1;32mIn[3], line 5\u001b[0m\n\u001b[0;32m      3\u001b[0m \u001b[39mprint\u001b[39m(mytuple[\u001b[39m1\u001b[39m])\n\u001b[0;32m      4\u001b[0m \u001b[39mprint\u001b[39m(mytuple[\u001b[39m2\u001b[39m])\n\u001b[1;32m----> 5\u001b[0m \u001b[39mprint\u001b[39m(mytuple[\u001b[39m3\u001b[39;49m])\n",
      "\u001b[1;31mIndexError\u001b[0m: tuple index out of range"
     ]
    }
   ],
   "source": [
    "mytuple=(\"shaid\",10,1.02)\n",
    "print(mytuple[0])\n",
    "print(mytuple[1])\n",
    "print(mytuple[2])\n",
    "print(mytuple[3])"
   ]
  },
  {
   "cell_type": "code",
   "execution_count": 4,
   "metadata": {},
   "outputs": [
    {
     "name": "stdout",
     "output_type": "stream",
     "text": [
      "1.02\n",
      "10\n",
      "shaid\n"
     ]
    }
   ],
   "source": [
    "mytuple=(\"shaid\",10,1.02)\n",
    "print(mytuple[-1])\n",
    "print(mytuple[-2])\n",
    "print(mytuple[-3])"
   ]
  },
  {
   "cell_type": "code",
   "execution_count": 5,
   "metadata": {},
   "outputs": [
    {
     "ename": "TypeError",
     "evalue": "'tuple' object does not support item assignment",
     "output_type": "error",
     "traceback": [
      "\u001b[1;31m---------------------------------------------------------------------------\u001b[0m",
      "\u001b[1;31mTypeError\u001b[0m                                 Traceback (most recent call last)",
      "Cell \u001b[1;32mIn[5], line 2\u001b[0m\n\u001b[0;32m      1\u001b[0m mytuple\u001b[39m=\u001b[39m(\u001b[39m\"\u001b[39m\u001b[39mshaid\u001b[39m\u001b[39m\"\u001b[39m,\u001b[39m10\u001b[39m,\u001b[39m1.02\u001b[39m)\n\u001b[1;32m----> 2\u001b[0m mytuple[\u001b[39m0\u001b[39;49m]\u001b[39m=\u001b[39m\u001b[39m\"\u001b[39m\u001b[39mali\u001b[39m\u001b[39m\"\u001b[39m\n\u001b[0;32m      3\u001b[0m \u001b[39mprint\u001b[39m(mytuple)\n",
      "\u001b[1;31mTypeError\u001b[0m: 'tuple' object does not support item assignment"
     ]
    }
   ],
   "source": [
    "mytuple=(\"shaid\",10,1.02)\n",
    "mytuple[0]=\"ali\"\n",
    "print(mytuple)"
   ]
  },
  {
   "cell_type": "code",
   "execution_count": 6,
   "metadata": {},
   "outputs": [
    {
     "name": "stdout",
     "output_type": "stream",
     "text": [
      "shaid\n",
      "10\n",
      "1.02\n"
     ]
    }
   ],
   "source": [
    "mytuple=(\"shaid\",10,1.02)\n",
    "for i in mytuple:\n",
    "    print(i)"
   ]
  },
  {
   "cell_type": "code",
   "execution_count": 7,
   "metadata": {},
   "outputs": [
    {
     "name": "stdout",
     "output_type": "stream",
     "text": [
      "yes\n"
     ]
    }
   ],
   "source": [
    "mytuple=(\"shaid\",10,1.02)\n",
    "if \"shaid\" in mytuple:\n",
    "    print(\"yes\")\n",
    "else:\n",
    "    print(\"no\")    \n"
   ]
  },
  {
   "cell_type": "code",
   "execution_count": 8,
   "metadata": {},
   "outputs": [
    {
     "name": "stdout",
     "output_type": "stream",
     "text": [
      "3\n"
     ]
    }
   ],
   "source": [
    "mytuple=(\"shaid\",10,1.02)\n",
    "print(len(mytuple))"
   ]
  },
  {
   "cell_type": "code",
   "execution_count": 9,
   "metadata": {},
   "outputs": [
    {
     "name": "stdout",
     "output_type": "stream",
     "text": [
      "4\n"
     ]
    }
   ],
   "source": [
    "mytuple=(\"shaid\",10,1.02,10,21,10,30,10)\n",
    "print(mytuple.count(10))"
   ]
  },
  {
   "cell_type": "code",
   "execution_count": 11,
   "metadata": {},
   "outputs": [
    {
     "name": "stdout",
     "output_type": "stream",
     "text": [
      "1\n"
     ]
    }
   ],
   "source": [
    "mytuple=(\"shaid\",10,1.02,10,21,10,30,10)\n",
    "print(mytuple.index(10))"
   ]
  },
  {
   "cell_type": "code",
   "execution_count": 12,
   "metadata": {},
   "outputs": [
    {
     "name": "stdout",
     "output_type": "stream",
     "text": [
      "['shaid', 10, 1.02, 10, 21, 10, 30, 10]\n"
     ]
    }
   ],
   "source": [
    "mytuple=(\"shaid\",10,1.02,10,21,10,30,10)\n",
    "list1=list(mytuple)\n",
    "print(list1)"
   ]
  },
  {
   "cell_type": "code",
   "execution_count": 13,
   "metadata": {},
   "outputs": [
    {
     "name": "stdout",
     "output_type": "stream",
     "text": [
      "('shaid', 10, 1.02, 10, 21, 10, 30, 10)\n"
     ]
    }
   ],
   "source": [
    "mylist=[\"shaid\",10,1.02,10,21,10,30,10]\n",
    "tuple1=tuple(mylist)\n",
    "print(tuple1)"
   ]
  },
  {
   "cell_type": "code",
   "execution_count": 14,
   "metadata": {},
   "outputs": [
    {
     "name": "stdout",
     "output_type": "stream",
     "text": [
      "(10, 21)\n"
     ]
    }
   ],
   "source": [
    "mytuole=(5,6,1,34,8,21,6,498,4)\n",
    "a=mytuple[3:5]\n",
    "print(a)"
   ]
  },
  {
   "cell_type": "code",
   "execution_count": 15,
   "metadata": {},
   "outputs": [
    {
     "name": "stdout",
     "output_type": "stream",
     "text": [
      "shaid\n",
      "20\n"
     ]
    }
   ],
   "source": [
    "mytuple=\"shaid\",20\n",
    "name,age=mytuple\n",
    "print(name)\n",
    "print(age)"
   ]
  },
  {
   "cell_type": "code",
   "execution_count": 16,
   "metadata": {},
   "outputs": [
    {
     "name": "stdout",
     "output_type": "stream",
     "text": [
      "1\n",
      "2\n",
      "[3, 4, 6]\n"
     ]
    }
   ],
   "source": [
    "mytuple=(1,2,3,4,6)\n",
    "i1,i2,*i3=mytuple\n",
    "print(i1)\n",
    "print(i2)\n",
    "print(i3)"
   ]
  },
  {
   "cell_type": "code",
   "execution_count": 19,
   "metadata": {},
   "outputs": [
    {
     "name": "stdout",
     "output_type": "stream",
     "text": [
      "104\n",
      "88\n"
     ]
    }
   ],
   "source": [
    "import sys\n",
    "mylist=[1,2,\"shaid\",100,1.05,True]\n",
    "mytuple=(1,2,\"shaid\",100,1.05,True)\n",
    "print(sys.getsizeof(mylist,\"bytes\"))\n",
    "print(sys.getsizeof(mytuple,\"bytes\"))"
   ]
  }
 ],
 "metadata": {
  "kernelspec": {
   "display_name": "Python 3",
   "language": "python",
   "name": "python3"
  },
  "language_info": {
   "codemirror_mode": {
    "name": "ipython",
    "version": 3
   },
   "file_extension": ".py",
   "mimetype": "text/x-python",
   "name": "python",
   "nbconvert_exporter": "python",
   "pygments_lexer": "ipython3",
   "version": "3.11.3"
  },
  "orig_nbformat": 4
 },
 "nbformat": 4,
 "nbformat_minor": 2
}
